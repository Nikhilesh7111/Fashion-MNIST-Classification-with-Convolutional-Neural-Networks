{
 "cells": [
  {
   "cell_type": "markdown",
   "metadata": {},
   "source": [
    "Lost in the closet (Classification)\n"
   ]
  },
  {
   "cell_type": "code",
   "execution_count": 24,
   "metadata": {},
   "outputs": [],
   "source": [
    "import torchvision\n",
    "import torchvision.transforms as transforms\n",
    "import torch\n",
    "import torch.nn as nn\n",
    "import matplotlib.pyplot as plt\n",
    "import tensorflow as tf\n",
    "import torch.nn.functional as F\n",
    "import torch.optim as optim\n",
    "from tensorflow.keras.datasets import mnist\n",
    "\n",
    "\n",
    "# Loading the datasets\n",
    "train_set = torchvision.datasets.FashionMNIST(root=\".\", train=True, download=True, transform=transforms.ToTensor())\n",
    "test_set = torchvision.datasets.FashionMNIST(root=\".\", train=False, download=True, transform=transforms.ToTensor())\n",
    "\n",
    "# Creating data loaders\n",
    "train_loader = torch.utils.data.DataLoader(train_set, batch_size=32, shuffle=True)\n",
    "test_loader = torch.utils.data.DataLoader(test_set, batch_size=32, shuffle=False)\n",
    "\n",
    "# Setting the seed for reproducibility\n",
    "torch.manual_seed(0)\n",
    "if torch.cuda.is_available():\n",
    "    torch.cuda.manual_seed(0)\n",
    "\n",
    "# Setting CuDNN parameters\n",
    "torch.backends.cudnn.deterministic = True\n",
    "torch.backends.cudnn.benchmark = False\n"
   ]
  },
  {
   "cell_type": "markdown",
   "metadata": {},
   "source": [
    "1. Given the problem, what is the most appropriate loss function to use? "
   ]
  },
  {
   "cell_type": "code",
   "execution_count": 25,
   "metadata": {},
   "outputs": [],
   "source": [
    "import torch.nn as nn\n",
    "\n",
    "\n",
    "class SimpleNet(nn.Module):\n",
    "    def __init__(self):\n",
    "        super(SimpleNet, self).__init__()\n",
    "        self.fc1 = nn.Linear(28*28, 256)  # FashionMNIST images are 28x28\n",
    "        self.fc2 = nn.Linear(256, 128)\n",
    "        self.fc3 = nn.Linear(128, 10)     # 10 classes in FashionMNIST\n",
    "\n",
    "    def forward(self, x):\n",
    "        x = F.relu(self.fc1(x.view(-1, 28*28)))  # Flatten the image\n",
    "        x = F.relu(self.fc2(x))\n",
    "        x = self.fc3(x)  # No activation here; raw scores are used in Cross-Entropy\n",
    "        return x\n",
    "\n"
   ]
  },
  {
   "cell_type": "code",
   "execution_count": 26,
   "metadata": {},
   "outputs": [],
   "source": [
    "\n",
    "# Initialize the model\n",
    "model = SimpleNet()\n",
    "# Define the loss function\n",
    "criterion = nn.CrossEntropyLoss()  # Cross-Entropy Loss\n"
   ]
  },
  {
   "cell_type": "markdown",
   "metadata": {},
   "source": [
    "Create and train a Convolutional Neural Network"
   ]
  },
  {
   "cell_type": "code",
   "execution_count": 27,
   "metadata": {},
   "outputs": [
    {
     "name": "stdout",
     "output_type": "stream",
     "text": [
      "Epoch [1/10], Loss: 0.2547\n",
      "Epoch [2/10], Loss: 0.5091\n",
      "Epoch [3/10], Loss: 0.5875\n",
      "Epoch [4/10], Loss: 0.1793\n",
      "Epoch [5/10], Loss: 0.1964\n",
      "Epoch [6/10], Loss: 0.1320\n",
      "Epoch [7/10], Loss: 0.1904\n",
      "Epoch [8/10], Loss: 0.3760\n",
      "Epoch [9/10], Loss: 0.3036\n",
      "Epoch [10/10], Loss: 0.4480\n"
     ]
    }
   ],
   "source": [
    "device = torch.device(\"cuda\" if torch.cuda.is_available() else \"cpu\")\n",
    "num_epochs = 10  # or any other number of epochs you wish to train for                                                                                      \n",
    "\n",
    "optimizer = optim.SGD(model.parameters(), lr=0.1)\n",
    "\n",
    "for epoch in range(num_epochs):\n",
    "    for images, labels in train_loader:\n",
    "        # Convert images and labels to your device if you're using GPU\n",
    "        images, labels = images.to(device), labels.to(device)\n",
    "        model.to(device)\n",
    "\n",
    "\n",
    "        # Forward pass\n",
    "        outputs = model(images)\n",
    "        loss = criterion(outputs, labels)\n",
    "\n",
    "        # Backward pass and optimization\n",
    "        optimizer.zero_grad()\n",
    "        loss.backward()\n",
    "        optimizer.step()\n",
    "\n",
    "    print(f'Epoch [{epoch+1}/{num_epochs}], Loss: {loss.item():.4f}')\n"
   ]
  },
  {
   "cell_type": "code",
   "execution_count": 28,
   "metadata": {},
   "outputs": [
    {
     "data": {
      "text/plain": [
       "FashionCNN(\n",
       "  (conv1): Conv2d(1, 32, kernel_size=(5, 5), stride=(1, 1))\n",
       "  (conv2): Conv2d(32, 64, kernel_size=(5, 5), stride=(1, 1))\n",
       "  (fc1): Linear(in_features=1024, out_features=1024, bias=True)\n",
       "  (fc2): Linear(in_features=1024, out_features=256, bias=True)\n",
       "  (fc3): Linear(in_features=256, out_features=10, bias=True)\n",
       ")"
      ]
     },
     "execution_count": 28,
     "metadata": {},
     "output_type": "execute_result"
    }
   ],
   "source": [
    "import torch\n",
    "import torch.nn as nn\n",
    "import torch.nn.functional as F\n",
    "\n",
    "from torchvision import datasets, transforms\n",
    "\n",
    "class FashionCNN(nn.Module):\n",
    "    def __init__(self):\n",
    "        super(FashionCNN, self).__init__()\n",
    "        # Convolutional layers\n",
    "        self.conv1 = nn.Conv2d(1, 32, kernel_size=5, stride=1)\n",
    "        self.conv2 = nn.Conv2d(32, 64, kernel_size=5, stride=1)\n",
    "\n",
    "        # Fully connected layers\n",
    "        self.fc1 = nn.Linear(4*4*64, 1024)  # 4*4 is the size after pooling layers\n",
    "        self.fc2 = nn.Linear(1024, 256)\n",
    "        self.fc3 = nn.Linear(256, 10)\n",
    "\n",
    "    def forward(self, x):\n",
    "        # First convolutional layer\n",
    "        x = F.relu(self.conv1(x))\n",
    "        x = F.max_pool2d(x, kernel_size=2, stride=2)\n",
    "\n",
    "        # Second convolutional layer\n",
    "        x = F.relu(self.conv2(x))\n",
    "        x = F.max_pool2d(x, kernel_size=2, stride=2)\n",
    "\n",
    "        # Flatten the output for the fully connected layers\n",
    "        x = x.view(-1, 4*4*64)\n",
    "\n",
    "        # Fully connected layers with ReLU activation\n",
    "        x = F.relu(self.fc1(x))\n",
    "        x = F.relu(self.fc2(x))\n",
    "        \n",
    "        # Output layer\n",
    "        x = self.fc3(x)\n",
    "        return x\n",
    "\n",
    "# Initialize the model\n",
    "model = FashionCNN()\n",
    "\n",
    "# Initialize weights with Xavier Uniform\n",
    "def init_weights(m):\n",
    "    if isinstance(m, nn.Conv2d) or isinstance(m, nn.Linear):\n",
    "        torch.nn.init.xavier_uniform_(m.weight)\n",
    "\n",
    "model.apply(init_weights)\n"
   ]
  },
  {
   "cell_type": "code",
   "execution_count": 29,
   "metadata": {},
   "outputs": [],
   "source": [
    "# Define the optimizer and learning rate\n",
    "optimizer = optim.SGD(model.parameters(), lr=0.1)\n",
    "criterion = nn.CrossEntropyLoss()\n",
    "\n",
    "# Load the FashionMNIST dataset\n",
    "transform = transforms.ToTensor()\n",
    "train_set = datasets.FashionMNIST('./data', train=True, download=True, transform=transform)\n",
    "test_set = datasets.FashionMNIST('./data', train=False, download=True, transform=transform)\n",
    "\n",
    "train_loader = torch.utils.data.DataLoader(train_set, batch_size=32, shuffle=True)\n",
    "test_loader = torch.utils.data.DataLoader(test_set, batch_size=32, shuffle=False)\n"
   ]
  },
  {
   "cell_type": "code",
   "execution_count": 30,
   "metadata": {},
   "outputs": [
    {
     "name": "stdout",
     "output_type": "stream",
     "text": [
      "Epoch 1, Training Loss: 973.2095, Training Accuracy: 80.70%, Test Accuracy: 86.96%\n",
      "Epoch 2, Training Loss: 608.1920, Training Accuracy: 87.94%, Test Accuracy: 88.20%\n",
      "Epoch 3, Training Loss: 520.7350, Training Accuracy: 89.63%, Test Accuracy: 89.20%\n",
      "Epoch 4, Training Loss: 463.6709, Training Accuracy: 90.72%, Test Accuracy: 88.35%\n",
      "Epoch 5, Training Loss: 414.3634, Training Accuracy: 91.69%, Test Accuracy: 90.58%\n",
      "Epoch 6, Training Loss: 376.2011, Training Accuracy: 92.36%, Test Accuracy: 90.46%\n",
      "Epoch 7, Training Loss: 338.9013, Training Accuracy: 93.09%, Test Accuracy: 90.12%\n",
      "Epoch 8, Training Loss: 307.7161, Training Accuracy: 93.67%, Test Accuracy: 90.73%\n",
      "Epoch 9, Training Loss: 274.1560, Training Accuracy: 94.38%, Test Accuracy: 89.63%\n",
      "Epoch 10, Training Loss: 246.3825, Training Accuracy: 94.87%, Test Accuracy: 90.71%\n",
      "Epoch 11, Training Loss: 221.3847, Training Accuracy: 95.41%, Test Accuracy: 90.58%\n",
      "Epoch 12, Training Loss: 199.0147, Training Accuracy: 95.77%, Test Accuracy: 90.64%\n",
      "Epoch 13, Training Loss: 178.4545, Training Accuracy: 96.36%, Test Accuracy: 90.85%\n",
      "Epoch 14, Training Loss: 164.1368, Training Accuracy: 96.59%, Test Accuracy: 91.12%\n",
      "Epoch 15, Training Loss: 155.1260, Training Accuracy: 96.86%, Test Accuracy: 90.80%\n",
      "Epoch 16, Training Loss: 139.4428, Training Accuracy: 97.19%, Test Accuracy: 90.99%\n",
      "Epoch 17, Training Loss: 124.5254, Training Accuracy: 97.44%, Test Accuracy: 91.07%\n",
      "Epoch 18, Training Loss: 108.9391, Training Accuracy: 97.85%, Test Accuracy: 91.15%\n",
      "Epoch 19, Training Loss: 97.0464, Training Accuracy: 97.97%, Test Accuracy: 90.96%\n",
      "Epoch 20, Training Loss: 97.8665, Training Accuracy: 98.01%, Test Accuracy: 90.71%\n",
      "Epoch 21, Training Loss: 92.4451, Training Accuracy: 98.14%, Test Accuracy: 89.73%\n",
      "Epoch 22, Training Loss: 81.7981, Training Accuracy: 98.33%, Test Accuracy: 91.33%\n",
      "Epoch 23, Training Loss: 81.8393, Training Accuracy: 98.41%, Test Accuracy: 90.10%\n",
      "Epoch 24, Training Loss: 85.4775, Training Accuracy: 98.28%, Test Accuracy: 90.93%\n",
      "Epoch 25, Training Loss: 73.4363, Training Accuracy: 98.54%, Test Accuracy: 91.23%\n",
      "Epoch 26, Training Loss: 59.5150, Training Accuracy: 98.87%, Test Accuracy: 91.68%\n",
      "Epoch 27, Training Loss: 64.8126, Training Accuracy: 98.80%, Test Accuracy: 90.80%\n",
      "Epoch 28, Training Loss: 59.7921, Training Accuracy: 98.87%, Test Accuracy: 91.17%\n",
      "Epoch 29, Training Loss: 44.1859, Training Accuracy: 99.13%, Test Accuracy: 91.05%\n",
      "Epoch 30, Training Loss: 38.6492, Training Accuracy: 99.28%, Test Accuracy: 90.09%\n"
     ]
    }
   ],
   "source": [
    "num_epochs = 30\n",
    "train_losses = []\n",
    "train_accuracies = []\n",
    "test_accuracies = []\n",
    "\n",
    "for epoch in range(num_epochs):\n",
    "    model.train()\n",
    "    total_loss = 0\n",
    "    correct = 0\n",
    "    for data, target in train_loader:\n",
    "        optimizer.zero_grad()\n",
    "        output = model(data)\n",
    "        loss = criterion(output, target)\n",
    "        loss.backward()\n",
    "        optimizer.step()\n",
    "        total_loss += loss.item()\n",
    "        pred = output.argmax(dim=1, keepdim=True)\n",
    "        correct += pred.eq(target.view_as(pred)).sum().item()\n",
    "\n",
    "    train_losses.append(total_loss)\n",
    "    train_accuracy = 100. * correct / len(train_loader.dataset)\n",
    "    train_accuracies.append(train_accuracy)\n",
    "\n",
    "    # Test the model\n",
    "    model.eval()\n",
    "    correct = 0\n",
    "    with torch.no_grad():\n",
    "        for data, target in test_loader:\n",
    "            output = model(data)\n",
    "            pred = output.argmax(dim=1, keepdim=True)\n",
    "            correct += pred.eq(target.view_as(pred)).sum().item()\n",
    "    test_accuracy = 100. * correct / len(test_loader.dataset)\n",
    "    test_accuracies.append(test_accuracy)\n",
    "\n",
    "    print(f'Epoch {epoch+1}, Training Loss: {total_loss:.4f}, Training Accuracy: {train_accuracy:.2f}%, Test Accuracy: {test_accuracy:.2f}%')\n"
   ]
  },
  {
   "cell_type": "code",
   "execution_count": 31,
   "metadata": {},
   "outputs": [
    {
     "data": {
      "image/png": "[encoded data removed]",
      "text/plain": [
       "<Figure size 640x480 with 1 Axes>"
      ]
     },
     "metadata": {},
     "output_type": "display_data"
    },
    {
     "data": {
      "image/png": "[encoded data removed]",
      "text/plain": [
       "<Figure size 640x480 with 1 Axes>"
      ]
     },
     "metadata": {},
     "output_type": "display_data"
    }
   ],
   "source": [
    "\n",
    "\n",
    "# Plot for training and test accuracies\n",
    "plt.plot(train_accuracies, label='Training Accuracy')\n",
    "plt.plot(test_accuracies, label='Test Accuracy')\n",
    "plt.xlabel('Epoch')\n",
    "plt.ylabel('Accuracy')\n",
    "plt.legend()\n",
    "plt.title('Training and Test Accuracy')\n",
    "plt.show()\n",
    "\n",
    "# Plot for training loss\n",
    "plt.plot(range(num_epochs), train_losses)\n",
    "plt.xlabel('Epochs')\n",
    "plt.ylabel('Train Loss')\n",
    "plt.title('Training Loss per Epoch')\n",
    "plt.show()"
   ]
  },
  {
   "cell_type": "markdown",
   "metadata": {},
   "source": [
    "Run three experiments each time changing all the current activation functions to one of the\n",
    "following: Tanh, Sigmoid and ELU. In your report, provide only the final classification accuracy\n",
    "values (train and test) per activation function and comment on the result."
   ]
  },
  {
   "cell_type": "code",
   "execution_count": 32,
   "metadata": {},
   "outputs": [
    {
     "name": "stdout",
     "output_type": "stream",
     "text": [
      "Activation Function: tanh\n",
      "    Training Accuracy: 0.9260\n",
      "    Testing Accuracy: 0.9282\n",
      "\n",
      "Activation Function: sigmoid\n",
      "    Training Accuracy: 0.8939\n",
      "    Testing Accuracy: 0.8994\n",
      "\n",
      "Activation Function: elu\n",
      "    Training Accuracy: 0.9218\n",
      "    Testing Accuracy: 0.9227\n",
      "\n"
     ]
    }
   ],
   "source": [
    "from keras.models import Sequential\n",
    "from keras.layers import Dense, Flatten\n",
    "from tensorflow import keras\n",
    "\n",
    "# Load and preprocess the dataset\n",
    "(x_train, y_train), (x_test, y_test) = mnist.load_data()\n",
    "x_train, x_test = x_train / 255.0, x_test / 255.0\n",
    "\n",
    "# Define a function to create the model\n",
    "def create_model(activation_function):\n",
    "    model = Sequential([\n",
    "        Flatten(input_shape=(28, 28)),\n",
    "        Dense(128, activation=activation_function),\n",
    "        Dense(10, activation='softmax')\n",
    "    ])\n",
    "    return model\n",
    "\n",
    "# Define the activation functions to experiment with\n",
    "activation_functions = ['tanh', 'sigmoid', 'elu']\n",
    "\n",
    "# Define a dictionary to store the results\n",
    "results = {}\n",
    "\n",
    "# Experiment with each activation function\n",
    "for activation in activation_functions:\n",
    "    # Create the model with the current activation function\n",
    "    model = create_model(activation)\n",
    "\n",
    "    # Compile the model\n",
    "    model.compile(optimizer=keras.optimizers.SGD(),\n",
    "                  loss='sparse_categorical_crossentropy',\n",
    "                  metrics=['accuracy'])\n",
    "\n",
    "    # Train the model\n",
    "    model.fit(x_train, y_train, epochs=5, batch_size=32, verbose=0)\n",
    "\n",
    "    # Evaluate model training,testing \n",
    "    train_loss, train_acc = model.evaluate(x_train, y_train, verbose=0)\n",
    "    test_loss, test_acc = model.evaluate(x_test, y_test, verbose=0)\n",
    "\n",
    "   \n",
    "    results[activation] = {'train_accuracy': train_acc, 'test_accuracy': test_acc}\n",
    "\n",
    "\n",
    "for activation, accuracies in results.items():\n",
    "    print(f\"Activation Function: {activation}\")\n",
    "    print(f\"    Training Accuracy: {accuracies['train_accuracy']:.4f}\")\n",
    "    print(f\"    Testing Accuracy: {accuracies['test_accuracy']:.4f}\\n\")\n"
   ]
  },
  {
   "cell_type": "markdown",
   "metadata": {},
   "source": [
    "Keeping ReLU, use 5 different learning rates: 0.001, 0.1, 0.5, 1, 10. In your report, provide the\n",
    "final train loss, as well as the final accuracy values for both train and test for each learning rate\n",
    "and comment on the trade-offs between speed and stability of convergence. Comment on why\n",
    "you get the Nan loss if any"
   ]
  },
  {
   "cell_type": "code",
   "execution_count": 36,
   "metadata": {},
   "outputs": [
    {
     "name": "stderr",
     "output_type": "stream",
     "text": [
      "WARNING:absl:`lr` is deprecated in Keras optimizer, please use `learning_rate` or use the legacy optimizer, e.g.,tf.keras.optimizers.legacy.SGD.\n",
      "WARNING:absl:`lr` is deprecated in Keras optimizer, please use `learning_rate` or use the legacy optimizer, e.g.,tf.keras.optimizers.legacy.SGD.\n",
      "WARNING:absl:`lr` is deprecated in Keras optimizer, please use `learning_rate` or use the legacy optimizer, e.g.,tf.keras.optimizers.legacy.SGD.\n",
      "WARNING:absl:`lr` is deprecated in Keras optimizer, please use `learning_rate` or use the legacy optimizer, e.g.,tf.keras.optimizers.legacy.SGD.\n",
      "WARNING:absl:`lr` is deprecated in Keras optimizer, please use `learning_rate` or use the legacy optimizer, e.g.,tf.keras.optimizers.legacy.SGD.\n"
     ]
    },
    {
     "name": "stdout",
     "output_type": "stream",
     "text": [
      "Learning Rate: 0.001\n",
      "    Final Training Loss: 0.2765\n",
      "    Final Training Accuracy: 92.08%\n",
      "    Testing Loss: 0.2127\n",
      "    Final Testing Accuracy: 94.13%\n",
      "Learning Rate: 0.01\n",
      "    Final Training Loss: 0.2767\n",
      "    Final Training Accuracy: 92.06%\n",
      "    Testing Loss: 0.2147\n",
      "    Final Testing Accuracy: 93.98%\n",
      "Learning Rate: 0.1\n",
      "    Final Training Loss: 0.2768\n",
      "    Final Training Accuracy: 92.12%\n",
      "    Testing Loss: 0.2129\n",
      "    Final Testing Accuracy: 93.93%\n",
      "Learning Rate: 0.5\n",
      "    Final Training Loss: 0.2730\n",
      "    Final Training Accuracy: 92.21%\n",
      "    Testing Loss: 0.2090\n",
      "    Final Testing Accuracy: 94.03%\n",
      "Learning Rate: 1\n",
      "    Final Training Loss: 0.2802\n",
      "    Final Training Accuracy: 92.07%\n",
      "    Testing Loss: 0.2181\n",
      "    Final Testing Accuracy: 94.06%\n"
     ]
    }
   ],
   "source": [
    "# Import the required modules\n",
    "from keras.optimizers import SGD\n",
    "from keras.models import Sequential\n",
    "from keras.layers import Flatten, Dense, Dropout\n",
    "from keras.datasets import mnist\n",
    "\n",
    "# Load and preprocess the dataset\n",
    "(x_train, y_train), (x_test, y_test) = mnist.load_data()\n",
    "x_train, x_test = x_train / 255.0, x_test / 255.0\n",
    "\n",
    "# Define a function to create the model with dropout\n",
    "def create_model_with_dropout():\n",
    "    model = Sequential([\n",
    "        Flatten(input_shape=(28, 28)),\n",
    "        Dense(128, activation='relu'),\n",
    "        Dropout(0.3),  # Dropout layer added\n",
    "        Dense(10, activation='softmax')\n",
    "    ])\n",
    "    return model\n",
    "\n",
    "# Define the learning rates to experiment with\n",
    "learning_rates = [0.001, 0.01, 0.1, 0.5, 1]\n",
    "\n",
    "# Define a dictionary to store the results\n",
    "results = {}\n",
    "\n",
    "# Experiment with each learning rate\n",
    "for lr in learning_rates:\n",
    "    # Create the model with dropout\n",
    "    model = create_model_with_dropout()\n",
    "\n",
    "    # Compile the model with the current learning rate and use SGD optimizer\n",
    "    model.compile(optimizer=SGD(lr=lr),  \n",
    "                  loss='sparse_categorical_crossentropy',\n",
    "                  metrics=['accuracy'])\n",
    "\n",
    "    # Train the model\n",
    "    history = model.fit(x_train, y_train, epochs=5, batch_size=32, verbose=0)\n",
    "\n",
    "    # Get the final training loss and accuracy\n",
    "    final_train_loss = history.history['loss'][-1]\n",
    "    final_train_accuracy = history.history['accuracy'][-1]\n",
    "\n",
    "    # Evaluate the model on the testing set\n",
    "    test_loss, test_accuracy = model.evaluate(x_test, y_test, verbose=0)\n",
    "\n",
    "    \n",
    "    results[lr] = {\n",
    "        'final_train_loss': final_train_loss,\n",
    "        'final_train_accuracy': final_train_accuracy,\n",
    "        'test_loss': test_loss,\n",
    "        'test_accuracy': test_accuracy\n",
    "    }\n",
    "\n",
    "\n",
    "for lr, metrics in results.items():\n",
    "    print(f\"Learning Rate: {lr}\")\n",
    "    print(f\"    Final Training Loss: {metrics['final_train_loss']:.4f}\")\n",
    "    print(f\"    Final Training Accuracy: {metrics['final_train_accuracy']*100:.2f}%\")\n",
    "    print(f\"    Testing Loss: {metrics['test_loss']:.4f}\")\n",
    "    print(f\"    Final Testing Accuracy: {metrics['test_accuracy']*100:.2f}%\")"
   ]
  },
  {
   "cell_type": "markdown",
   "metadata": {},
   "source": [
    "Add a dropout of 0.3 rate on the second fully connected layer (keeping ReLU and learning rate\n",
    "0.1). In your report, provide the final train and test accuracy values and explain how the dropout\n",
    "affects the performance."
   ]
  },
  {
   "cell_type": "code",
   "execution_count": 39,
   "metadata": {},
   "outputs": [
    {
     "name": "stderr",
     "output_type": "stream",
     "text": [
      "WARNING:absl:`lr` is deprecated in Keras optimizer, please use `learning_rate` or use the legacy optimizer, e.g.,tf.keras.optimizers.legacy.SGD.\n"
     ]
    },
    {
     "name": "stdout",
     "output_type": "stream",
     "text": [
      "Final Training Accuracy: 92.16%\n",
      "Testing Accuracy: 94.04%\n"
     ]
    }
   ],
   "source": [
    "# Load and preprocess the dataset\n",
    "(x_train, y_train), (x_test, y_test) = mnist.load_data()\n",
    "x_train, x_test = x_train / 255.0, x_test / 255.0\n",
    "\n",
    "# Define a function to create the model with dropout\n",
    "def create_model_with_dropout():\n",
    "    model = Sequential([\n",
    "        Flatten(input_shape=(28, 28)),\n",
    "        Dense(128, activation='relu'),\n",
    "        Dropout(0.3),  # Dropout layer added with a rate of 0.3\n",
    "        Dense(10, activation='softmax')\n",
    "    ])\n",
    "    return model\n",
    "\n",
    "# Create the model with dropout\n",
    "model = create_model_with_dropout()\n",
    "\n",
    "# Compile the model with a learning rate of 0.1 and use SGD optimizer\n",
    "model.compile(optimizer=SGD(lr=0.1),  \n",
    "              loss='sparse_categorical_crossentropy',\n",
    "              metrics=['accuracy'])\n",
    "\n",
    "# Train the model\n",
    "history = model.fit(x_train, y_train, epochs=5, batch_size=32, verbose=0)\n",
    "\n",
    "# Evaluate the model on the testing set\n",
    "test_loss, test_accuracy = model.evaluate(x_test, y_test, verbose=0)\n",
    "train_accuracy = history.history['accuracy'][-1] * 100\n",
    "test_accuracy_percentage = test_accuracy * 100\n",
    "\n",
    "# Print the final train and test accuracy values\n",
    "print(f\"Final Training Accuracy: {train_accuracy:.2f}%\")\n",
    "print(f\"Testing Accuracy: {test_accuracy_percentage:.2f}%\")"
   ]
  }
 ],
 "metadata": {
  "kernelspec": {
   "display_name": "Python 3",
   "language": "python",
   "name": "python3"
  },
  "language_info": {
   "codemirror_mode": {
    "name": "ipython",
    "version": 3
   },
   "file_extension": ".py",
   "mimetype": "text/x-python",
   "name": "python",
   "nbconvert_exporter": "python",
   "pygments_lexer": "ipython3",
   "version": "3.10.0"
  }
 },
 "nbformat": 4,
 "nbformat_minor": 2
}
